from flask import Flask, request, jsonify
from flask_cors import CORS
from pyngrok import ngrok
import pandas as pd
import numpy as np
from sklearn.model_selection import train_test_split, cross_val_score,KFold
from sklearn.preprocessing import LabelEncoder , StandardScaler
from sklearn.compose import ColumnTransformer
from sklearn.linear_model import LinearRegression
from sklearn.pipeline import Pipeline
from sklearn.metrics import mean_squared_error, r2_score,confusion_matrix,classification_report,mean_squared_error
from sklearn.ensemble import RandomForestRegressor
from sklearn.metrics import mean_absolute_error, mean_squared_error, r2_score
import matplotlib.pyplot as plt
import seaborn as sns
import pickle


# Initialize Flask app
app = Flask(__name__)
CORS(app, resources={r"/*": {"origins": "*"}})

# # Load the model and scaler (make sure to run this after saving your model and scaler)
# model = pickle.load(open('lin_reg_model.pkl', 'rb'))
# scaler = pickle.load(open('scaler.pkl', 'rb'))
# encoder = pickle.load(open('encoder.pkl', 'rb'))


# Set up your authtoken
ngrok.set_auth_token("2n48JoTRdodKQP87MZDzWQmOdzd_38ADmTYqLNQQoKJgxQFe3")  # Replace YOUR_NGROK_AUTHTOKEN with your actual authtoken

# Set up ngrok tunnel to expose the app to the internet
public_url = ngrok.connect(5000)
print("Public URL:", public_url)



# Data loading
df = pd.read_csv('student_performance[1].csv')
df = df.drop(['StudentID', 'Name'], axis=1)

# Encode categorical variables
lc = LabelEncoder()
df['Gender'] = lc.fit_transform(df['Gender'])
df['ParentalSupport'] = lc.fit_transform(df['ParentalSupport'])

# Define features and target
features = ['Gender', 'AttendanceRate', 'StudyHoursPerWeek', 'PreviousGrade', 'ExtracurricularActivities', 'ParentalSupport']
x = df[features]
y = df['FinalGrade']

# Split the dataset
X_train, X_test, y_train, y_test = train_test_split(x, y, test_size=0.2, random_state=42)

# Scale numerical features
scaler = StandardScaler()
X_train_scaled = X_train.copy()
X_test_scaled = X_test.copy()
X_train_scaled[['StudyHoursPerWeek', 'AttendanceRate']] = scaler.fit_transform(X_train[['StudyHoursPerWeek', 'AttendanceRate']])
X_test_scaled[['StudyHoursPerWeek', 'AttendanceRate']] = scaler.transform(X_test[['StudyHoursPerWeek', 'AttendanceRate']])

# Train the model
linreg = LinearRegression()
linreg.fit(X_train_scaled, y_train)

# Save the model, scaler, and encoder
pickle.dump(linreg, open('/content/lin_reg_model.pkl', 'wb'))
pickle.dump(scaler, open('/content/scaler.pkl', 'wb'))
pickle.dump(lc, open('/content/encoder.pkl', 'wb'))

# Load the model and scaler
model = pickle.load(open('/content/lin_reg_model.pkl', 'rb'))
scaler = pickle.load(open('/content/scaler.pkl', 'rb'))
encoder = pickle.load(open('/content/encoder.pkl', 'rb'))



@app.route('/data', methods=['POST'])
def get_data():
    data = request.json
    print("Received data:", data)

    # Create a DataFrame from the incoming JSON data
    df_input = pd.DataFrame([data])

    # Encode categorical variables
    df_input['Gender'] = df_input['Gender'].map({'Male': 1, 'Female': 0})
    df_input['ParentalSupport'] = df_input['ParentalSupport'].map({'Low': 0, 'Medium': 1, 'High': 2})
    df_input.fillna(0, inplace=True)

    # Ensure DataFrame has correct columns and order
    df_input = df_input[features]

    # Scale numerical features (only scale the features that were scaled during training)
    df_input[['StudyHoursPerWeek', 'AttendanceRate']] = scaler.transform(df_input[['StudyHoursPerWeek', 'AttendanceRate']])

    # Make predictions
    prediction = model.predict(df_input)

    response = {"message": "Prediction successful", "predicted_final_grade": prediction[0]}
    return jsonify(response)

if __name__ == '__main__':
    app.run(port=5000)
